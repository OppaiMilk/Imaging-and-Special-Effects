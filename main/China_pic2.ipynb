{
 "cells": [
  {
   "cell_type": "code",
   "execution_count": 1,
   "metadata": {},
   "outputs": [],
   "source": [
    "# fisher girl\n",
    "from PIL import Image, ImageFilter, ImageEnhance\n",
    "\n",
    "# sharpening\n",
    "img = Image.open('zhuhai_fisher_girl.jpg')\n",
    "img_output = img.filter(ImageFilter.SHARPEN)\n",
    "\n",
    "# contrast adjust\n",
    "enhancer = ImageEnhance.Contrast(img_output)\n",
    "contrasted_image = enhancer.enhance(1.25)\n",
    "\n",
    "contrasted_image.save('modified_girl.jpg')\n",
    "contrasted_image.show()"
   ]
  },
  {
   "cell_type": "code",
   "execution_count": 22,
   "metadata": {},
   "outputs": [
    {
     "data": {
      "text/plain": [
       "True"
      ]
     },
     "execution_count": 22,
     "metadata": {},
     "output_type": "execute_result"
    }
   ],
   "source": [
    "# crowd\n",
    "import cv2\n",
    "import numpy as np\n",
    "\n",
    "# sobel filter\n",
    "image = cv2.imread('crowd_looking.png', cv2.IMREAD_GRAYSCALE)\n",
    "\n",
    "sobel_x = cv2.Sobel(image, cv2.CV_64F, 1, 0, ksize=3)  # x direction\n",
    "sobel_y = cv2.Sobel(image, cv2.CV_64F, 0, 1, ksize=3)  # y direction\n",
    "\n",
    "sobel_combined = np.sqrt(sobel_x**2 + sobel_y**2)\n",
    "sobel_combined = np.uint8(sobel_combined)\n",
    "\n",
    "# contrast and brightness adjust\n",
    "sobel_combined = cv2.convertScaleAbs(sobel_combined, alpha=2.0, beta=0)\n",
    "\n",
    "# image flip\n",
    "sobel_combined = cv2.flip(sobel_combined, 1)\n",
    "\n",
    "# image resize\n",
    "result = cv2.resize(sobel_combined, (440, 362), interpolation=cv2.INTER_AREA)\n",
    "\n",
    "cv2.imwrite('modified_crowd.png', result)"
   ]
  },
  {
   "cell_type": "code",
   "execution_count": 15,
   "metadata": {},
   "outputs": [],
   "source": [
    "# mermaid\n",
    "from PIL import Image, ImageEnhance\n",
    "import numpy as np\n",
    "\n",
    "img = Image.open('mermaid.png')\n",
    "\n",
    "# saturation adjustment\n",
    "img_saturation = ImageEnhance.Color(img)\n",
    "result = img_saturation.enhance(2.0)\n",
    "\n",
    "result.save('modified_mermaid.png')"
   ]
  },
  {
   "cell_type": "code",
   "execution_count": 53,
   "metadata": {},
   "outputs": [
    {
     "name": "stdout",
     "output_type": "stream",
     "text": [
      "length of freames 30\n"
     ]
    }
   ],
   "source": [
    "# portal\n",
    "from PIL import Image, ImageSequence\n",
    "\n",
    "# resizing the gif\n",
    "filename = \"portal.gif\"\n",
    "new_width = 200\n",
    "new_height = 200\n",
    "\n",
    "with Image.open(filename) as im:\n",
    "    frames = []\n",
    "    for frame in ImageSequence.Iterator(im):\n",
    "        frame = frame.resize((new_width, new_height))\n",
    "        frames.append(frame)\n",
    "    print(f\"length of freames {len(frames)}\")\n",
    "    frames[0].save('modified_portal.gif', save_all=True, append_images=frames[1:])"
   ]
  },
  {
   "cell_type": "code",
   "execution_count": 14,
   "metadata": {},
   "outputs": [],
   "source": [
    "# floating island animation\n",
    "from PIL import Image\n",
    "import numpy as np\n",
    "\n",
    "image = Image.open('floating_island.png')\n",
    "\n",
    "frames = 24  \n",
    "amplitude = 10\n",
    "\n",
    "# Create frames\n",
    "gif_frames = []\n",
    "for i in range(frames):\n",
    "    offset = int(amplitude * np.sin(2 * np.pi * i / frames))\n",
    "    frame = Image.new('RGBA', image.size, (255, 255, 255, 0))\n",
    "    frame.paste(image, (0, offset), image)\n",
    "    gif_frames.append(frame)\n",
    "\n",
    "# Save the frames\n",
    "gif_frames[0].save(\n",
    "    'floating_island.gif',\n",
    "    save_all=True,\n",
    "    append_images=gif_frames[1:],\n",
    "    duration=100,\n",
    "    loop=0,\n",
    "    disposal=2\n",
    ")"
   ]
  },
  {
   "cell_type": "code",
   "execution_count": 59,
   "metadata": {},
   "outputs": [],
   "source": [
    "# overlay\n",
    "from PIL import Image\n",
    "\n",
    "img = Image.open('modified_girl.jpg')\n",
    "img2 = Image.open('modified_crowd.png')\n",
    "img3 = Image.open('modified_mermaid.png')\n",
    "\n",
    "img.paste(img2, (0, 570), mask = img2)\n",
    "img.paste(img3, (400, 650), mask = img3)\n",
    "\n",
    "img.save('result_v2.jpg')"
   ]
  },
  {
   "cell_type": "code",
   "execution_count": 58,
   "metadata": {},
   "outputs": [
    {
     "name": "stdout",
     "output_type": "stream",
     "text": [
      "Moviepy - Building video result_v2.mp4.\n",
      "MoviePy - Writing audio in result_v2TEMP_MPY_wvf_snd.mp4\n"
     ]
    },
    {
     "name": "stderr",
     "output_type": "stream",
     "text": [
      "                                                                 \r"
     ]
    },
    {
     "name": "stdout",
     "output_type": "stream",
     "text": [
      "MoviePy - Done.\n",
      "Moviepy - Writing video result_v2.mp4\n",
      "\n"
     ]
    },
    {
     "name": "stderr",
     "output_type": "stream",
     "text": [
      "                                                             \r"
     ]
    },
    {
     "name": "stdout",
     "output_type": "stream",
     "text": [
      "Moviepy - Done !\n",
      "Moviepy - video ready result_v2.mp4\n"
     ]
    }
   ],
   "source": [
    "from PIL import Image, ImageDraw\n",
    "from moviepy.editor import ImageSequenceClip, AudioFileClip\n",
    "import numpy as np\n",
    "\n",
    "# vignette effect to simulate difficulty staying conscious\n",
    "def add_vignette(image, strength=0.75):\n",
    "    width, height = image.size\n",
    "    mask = Image.new(\"L\", (width, height))\n",
    "    draw = ImageDraw.Draw(mask)\n",
    "    \n",
    "    for y in range(height):\n",
    "        for x in range(width):\n",
    "            dx = (x - width / 2.0) ** 2\n",
    "            dy = (y - height / 2.0) ** 2\n",
    "            distance = min(1.0, (dx + dy) / ((width / 2.0) ** 2 + (height / 2.0) ** 2))\n",
    "            darkness = int(255 * (1 - distance * strength))\n",
    "            draw.point((x, y), fill=darkness)\n",
    "    \n",
    "    black_image = Image.new(\"RGB\", (width, height), \"black\")\n",
    "    vignette_image = Image.composite(image, black_image, mask)\n",
    "    \n",
    "    return vignette_image\n",
    "\n",
    "base_image = Image.open('result_v2.jpg').convert(\"RGBA\")\n",
    "island_gif = Image.open('floating_island.gif')\n",
    "portal_gif = Image.open('modified_portal.gif')\n",
    "\n",
    "portal_frames = []\n",
    "try:\n",
    "    while True:\n",
    "        portal_frames.append(portal_gif.copy().convert(\"RGBA\"))\n",
    "        portal_gif.seek(portal_gif.tell() + 1)\n",
    "except EOFError:\n",
    "    pass\n",
    "\n",
    "frames = 24  \n",
    "amplitude = 10  \n",
    "duration = 3 \n",
    "vignette_frequency = 3\n",
    "\n",
    "# creating frames for GIF\n",
    "overlay_frames = []\n",
    "for i in range(frames):\n",
    "    offset = int(amplitude * np.sin(2 * np.pi * i / frames))\n",
    "    frame = base_image.copy()\n",
    "\n",
    "    temp_island_frame = island_gif.copy().convert(\"RGBA\")\n",
    "    frame.paste(temp_island_frame, (700, offset), temp_island_frame)\n",
    "\n",
    "    temp_portal_frame = portal_frames[i % len(portal_frames)]\n",
    "    frame.paste(temp_portal_frame, (400, 130), temp_portal_frame)\n",
    "    \n",
    "    vignette_strength = 0.75 * (1 + np.sin(2 * np.pi * vignette_frequency * i / frames)) / 2\n",
    "    frame_with_vignette = add_vignette(frame, strength=vignette_strength)\n",
    "    \n",
    "    overlay_frames.append(frame_with_vignette)\n",
    "\n",
    "clip = ImageSequenceClip([np.array(frame) for frame in overlay_frames], fps=frames/duration)\n",
    "\n",
    "audio = AudioFileClip('out_of_breath.mp3').set_duration(clip.duration)\n",
    "clip = clip.set_audio(audio)\n",
    "\n",
    "clip.write_videofile('result_v2.mp4', codec='libx264', audio_codec='aac')"
   ]
  }
 ],
 "metadata": {
  "kernelspec": {
   "display_name": "Python 3",
   "language": "python",
   "name": "python3"
  },
  "language_info": {
   "codemirror_mode": {
    "name": "ipython",
    "version": 3
   },
   "file_extension": ".py",
   "mimetype": "text/x-python",
   "name": "python",
   "nbconvert_exporter": "python",
   "pygments_lexer": "ipython3",
   "version": "3.12.3"
  }
 },
 "nbformat": 4,
 "nbformat_minor": 2
}
