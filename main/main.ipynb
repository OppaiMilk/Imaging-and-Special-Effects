{
 "cells": [
  {
   "cell_type": "code",
   "execution_count": 4,
   "metadata": {},
   "outputs": [],
   "source": [
    "import cv2"
   ]
  },
  {
   "cell_type": "code",
   "execution_count": 6,
   "metadata": {},
   "outputs": [
    {
     "name": "stdout",
     "output_type": "stream",
     "text": [
      "Error: Could not load image. Please check the file path and try again.\n"
     ]
    },
    {
     "name": "stderr",
     "output_type": "stream",
     "text": [
      "<>:2: SyntaxWarning: invalid escape sequence '\\P'\n",
      "<>:2: SyntaxWarning: invalid escape sequence '\\P'\n",
      "C:\\Users\\lingj\\AppData\\Local\\Temp\\ipykernel_21708\\3859630380.py:2: SyntaxWarning: invalid escape sequence '\\P'\n",
      "  image_path = \"..\\Pic\\Shirine.jpeg\"\n"
     ]
    }
   ],
   "source": [
    "# Specify the path to the image\n",
    "image_path = \"..\\Pic\\Shirine.jpeg\"\n",
    "\n",
    "# Load the image\n",
    "img = cv2.imread(image_path)\n",
    "\n",
    "# Check if the image was loaded correctly\n",
    "if img is None:\n",
    "    print(\"Error: Could not load image. Please check the file path and try again.\")\n",
    "else:\n",
    "    # New dimensions\n",
    "    new_width = 800\n",
    "    new_height = 600\n",
    "\n",
    "    # Resize the image\n",
    "    resized_img = cv2.resize(img, (new_width, new_height), interpolation=cv2.INTER_CUBIC)\n",
    "\n",
    "    # Display the resized image\n",
    "    cv2.imshow('Resized Image', resized_img)\n",
    "    cv2.waitKey(0)\n",
    "    cv2.destroyAllWindows()\n"
   ]
  }
 ],
 "metadata": {
  "kernelspec": {
   "display_name": "ISE",
   "language": "python",
   "name": "python3"
  },
  "language_info": {
   "codemirror_mode": {
    "name": "ipython",
    "version": 3
   },
   "file_extension": ".py",
   "mimetype": "text/x-python",
   "name": "python",
   "nbconvert_exporter": "python",
   "pygments_lexer": "ipython3",
   "version": "3.12.3"
  }
 },
 "nbformat": 4,
 "nbformat_minor": 2
}
